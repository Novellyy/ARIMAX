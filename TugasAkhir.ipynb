{
  "nbformat": 4,
  "nbformat_minor": 0,
  "metadata": {
    "colab": {
      "name": "TugasAkhir.ipynb",
      "provenance": [],
      "collapsed_sections": []
    },
    "kernelspec": {
      "display_name": "Python 3",
      "name": "python3"
    }
  },
  "cells": [
    {
      "cell_type": "markdown",
      "metadata": {
        "id": "DRW-vG6-PwIQ"
      },
      "source": [
        "# Mounting Google Drive"
      ]
    },
    {
      "cell_type": "code",
      "metadata": {
        "colab": {
          "base_uri": "https://localhost:8080/"
        },
        "id": "dm2g7fW3P133",
        "outputId": "4a51fc99-d719-4987-e0f8-1bc077082ca9"
      },
      "source": [
        "from google.colab import drive\n",
        "drive.mount('/content/drive')"
      ],
      "execution_count": 23,
      "outputs": [
        {
          "output_type": "stream",
          "text": [
            "Drive already mounted at /content/drive; to attempt to forcibly remount, call drive.mount(\"/content/drive\", force_remount=True).\n"
          ],
          "name": "stdout"
        }
      ]
    },
    {
      "cell_type": "markdown",
      "metadata": {
        "id": "45YpP0hdQOmW"
      },
      "source": [
        "# Import Libraries"
      ]
    },
    {
      "cell_type": "code",
      "metadata": {
        "colab": {
          "base_uri": "https://localhost:8080/"
        },
        "id": "xlhCno-gQSuv",
        "outputId": "544da83f-16a3-4316-f9fe-ae7ab3cfe1d1"
      },
      "source": [
        "!pip install pyflux\n",
        "!pip install pmdarima\n",
        "\n",
        "import numpy as np\n",
        "import pandas as pd\n",
        "from datetime import datetime\n",
        "import matplotlib.pyplot as plt\n",
        "import pyflux as pf\n",
        "\n",
        "from statsmodels.tsa.stattools import adfuller\n",
        "from pmdarima import auto_arima\n",
        "from statsmodels.tsa.arima_model import ARIMA\n",
        "import statsmodels.api as sm\n",
        "\n",
        "from sklearn.metrics import mean_absolute_error\n",
        "from sklearn.metrics import mean_squared_error\n",
        "\n",
        "import warnings\n",
        "warnings.filterwarnings('ignore')"
      ],
      "execution_count": 24,
      "outputs": [
        {
          "output_type": "stream",
          "text": [
            "Requirement already satisfied: pyflux in /usr/local/lib/python3.6/dist-packages (0.4.15)\n",
            "Requirement already satisfied: numpy in /usr/local/lib/python3.6/dist-packages (from pyflux) (1.19.5)\n",
            "Requirement already satisfied: patsy in /usr/local/lib/python3.6/dist-packages (from pyflux) (0.5.1)\n",
            "Requirement already satisfied: numdifftools in /usr/local/lib/python3.6/dist-packages (from pyflux) (0.9.39)\n",
            "Requirement already satisfied: scipy in /usr/local/lib/python3.6/dist-packages (from pyflux) (1.4.1)\n",
            "Requirement already satisfied: pandas in /usr/local/lib/python3.6/dist-packages (from pyflux) (1.1.5)\n",
            "Requirement already satisfied: six in /usr/local/lib/python3.6/dist-packages (from patsy->pyflux) (1.15.0)\n",
            "Requirement already satisfied: pytz>=2017.2 in /usr/local/lib/python3.6/dist-packages (from pandas->pyflux) (2018.9)\n",
            "Requirement already satisfied: python-dateutil>=2.7.3 in /usr/local/lib/python3.6/dist-packages (from pandas->pyflux) (2.8.1)\n",
            "Requirement already satisfied: pmdarima in /usr/local/lib/python3.6/dist-packages (1.8.0)\n",
            "Requirement already satisfied: numpy>=1.17.3 in /usr/local/lib/python3.6/dist-packages (from pmdarima) (1.19.5)\n",
            "Requirement already satisfied: statsmodels!=0.12.0,>=0.11 in /usr/local/lib/python3.6/dist-packages (from pmdarima) (0.12.2)\n",
            "Requirement already satisfied: Cython<0.29.18,>=0.29 in /usr/local/lib/python3.6/dist-packages (from pmdarima) (0.29.17)\n",
            "Requirement already satisfied: scikit-learn>=0.22 in /usr/local/lib/python3.6/dist-packages (from pmdarima) (0.22.2.post1)\n",
            "Requirement already satisfied: urllib3 in /usr/local/lib/python3.6/dist-packages (from pmdarima) (1.24.3)\n",
            "Requirement already satisfied: setuptools!=50.0.0,>=38.6.0 in /usr/local/lib/python3.6/dist-packages (from pmdarima) (53.0.0)\n",
            "Requirement already satisfied: scipy>=1.3.2 in /usr/local/lib/python3.6/dist-packages (from pmdarima) (1.4.1)\n",
            "Requirement already satisfied: pandas>=0.19 in /usr/local/lib/python3.6/dist-packages (from pmdarima) (1.1.5)\n",
            "Requirement already satisfied: joblib>=0.11 in /usr/local/lib/python3.6/dist-packages (from pmdarima) (1.0.0)\n",
            "Requirement already satisfied: patsy>=0.5 in /usr/local/lib/python3.6/dist-packages (from statsmodels!=0.12.0,>=0.11->pmdarima) (0.5.1)\n",
            "Requirement already satisfied: pytz>=2017.2 in /usr/local/lib/python3.6/dist-packages (from pandas>=0.19->pmdarima) (2018.9)\n",
            "Requirement already satisfied: python-dateutil>=2.7.3 in /usr/local/lib/python3.6/dist-packages (from pandas>=0.19->pmdarima) (2.8.1)\n",
            "Requirement already satisfied: six in /usr/local/lib/python3.6/dist-packages (from patsy>=0.5->statsmodels!=0.12.0,>=0.11->pmdarima) (1.15.0)\n"
          ],
          "name": "stdout"
        }
      ]
    },
    {
      "cell_type": "markdown",
      "metadata": {
        "id": "JT-TLLCLu4tx"
      },
      "source": [
        "# Variables Declaration"
      ]
    },
    {
      "cell_type": "code",
      "metadata": {
        "id": "ueCqmRTVu9C1"
      },
      "source": [
        "# references to the past data file\n",
        "filePath = '/content/drive/My Drive/Wisata.csv'\n",
        "white = 'white'\n",
        "title_ACF = 'Autocorrelation Function Plot (ACF)'\n",
        "title_PACF = 'Partial Autocorrelation Function (PACF)'"
      ],
      "execution_count": 25,
      "outputs": []
    },
    {
      "cell_type": "markdown",
      "metadata": {
        "id": "-3yeV_M5a1sk"
      },
      "source": [
        "# Read and Load Time-Series Data"
      ]
    },
    {
      "cell_type": "code",
      "metadata": {
        "colab": {
          "base_uri": "https://localhost:8080/",
          "height": 1000
        },
        "id": "SXDo-X_Qa7z2",
        "outputId": "95a11a5e-3245-4cdf-ea9f-0c2d2caabd69"
      },
      "source": [
        "# read and load past data\r\n",
        "pd.set_option('display.max_rows', 500)\r\n",
        "pd.set_option('display.max_columns', 500)\r\n",
        "pd.set_option('display.width', 1000)\r\n",
        "data_all = pd.read_csv(filePath, index_col='time', parse_dates=True)\r\n",
        "\r\n",
        "data = data_all[:-19]\r\n",
        "data"
      ],
      "execution_count": 26,
      "outputs": [
        {
          "output_type": "execute_result",
          "data": {
            "text/html": [
              "<div>\n",
              "<style scoped>\n",
              "    .dataframe tbody tr th:only-of-type {\n",
              "        vertical-align: middle;\n",
              "    }\n",
              "\n",
              "    .dataframe tbody tr th {\n",
              "        vertical-align: top;\n",
              "    }\n",
              "\n",
              "    .dataframe thead th {\n",
              "        text-align: right;\n",
              "    }\n",
              "</style>\n",
              "<table border=\"1\" class=\"dataframe\">\n",
              "  <thead>\n",
              "    <tr style=\"text-align: right;\">\n",
              "      <th></th>\n",
              "      <th>bps</th>\n",
              "      <th>trends</th>\n",
              "    </tr>\n",
              "    <tr>\n",
              "      <th>time</th>\n",
              "      <th></th>\n",
              "      <th></th>\n",
              "    </tr>\n",
              "  </thead>\n",
              "  <tbody>\n",
              "    <tr>\n",
              "      <th>2010-01</th>\n",
              "      <td>6678</td>\n",
              "      <td>17</td>\n",
              "    </tr>\n",
              "    <tr>\n",
              "      <th>2010-02</th>\n",
              "      <td>6990</td>\n",
              "      <td>26</td>\n",
              "    </tr>\n",
              "    <tr>\n",
              "      <th>2010-03</th>\n",
              "      <td>7285</td>\n",
              "      <td>12</td>\n",
              "    </tr>\n",
              "    <tr>\n",
              "      <th>2010-04</th>\n",
              "      <td>6984</td>\n",
              "      <td>36</td>\n",
              "    </tr>\n",
              "    <tr>\n",
              "      <th>2010-05</th>\n",
              "      <td>8358</td>\n",
              "      <td>23</td>\n",
              "    </tr>\n",
              "    <tr>\n",
              "      <th>2010-06</th>\n",
              "      <td>7868</td>\n",
              "      <td>21</td>\n",
              "    </tr>\n",
              "    <tr>\n",
              "      <th>2010-07</th>\n",
              "      <td>8531</td>\n",
              "      <td>25</td>\n",
              "    </tr>\n",
              "    <tr>\n",
              "      <th>2010-08</th>\n",
              "      <td>7408</td>\n",
              "      <td>8</td>\n",
              "    </tr>\n",
              "    <tr>\n",
              "      <th>2010-09</th>\n",
              "      <td>5410</td>\n",
              "      <td>9</td>\n",
              "    </tr>\n",
              "    <tr>\n",
              "      <th>2010-10</th>\n",
              "      <td>9799</td>\n",
              "      <td>22</td>\n",
              "    </tr>\n",
              "    <tr>\n",
              "      <th>2010-11</th>\n",
              "      <td>6598</td>\n",
              "      <td>14</td>\n",
              "    </tr>\n",
              "    <tr>\n",
              "      <th>2010-12</th>\n",
              "      <td>10570</td>\n",
              "      <td>18</td>\n",
              "    </tr>\n",
              "    <tr>\n",
              "      <th>2011-01</th>\n",
              "      <td>9669</td>\n",
              "      <td>13</td>\n",
              "    </tr>\n",
              "    <tr>\n",
              "      <th>2011-02</th>\n",
              "      <td>8912</td>\n",
              "      <td>15</td>\n",
              "    </tr>\n",
              "    <tr>\n",
              "      <th>2011-03</th>\n",
              "      <td>9224</td>\n",
              "      <td>10</td>\n",
              "    </tr>\n",
              "    <tr>\n",
              "      <th>2011-04</th>\n",
              "      <td>9949</td>\n",
              "      <td>15</td>\n",
              "    </tr>\n",
              "    <tr>\n",
              "      <th>2011-05</th>\n",
              "      <td>9592</td>\n",
              "      <td>13</td>\n",
              "    </tr>\n",
              "    <tr>\n",
              "      <th>2011-06</th>\n",
              "      <td>11262</td>\n",
              "      <td>13</td>\n",
              "    </tr>\n",
              "    <tr>\n",
              "      <th>2011-07</th>\n",
              "      <td>12020</td>\n",
              "      <td>10</td>\n",
              "    </tr>\n",
              "    <tr>\n",
              "      <th>2011-08</th>\n",
              "      <td>6673</td>\n",
              "      <td>10</td>\n",
              "    </tr>\n",
              "    <tr>\n",
              "      <th>2011-09</th>\n",
              "      <td>7138</td>\n",
              "      <td>13</td>\n",
              "    </tr>\n",
              "    <tr>\n",
              "      <th>2011-10</th>\n",
              "      <td>9281</td>\n",
              "      <td>10</td>\n",
              "    </tr>\n",
              "    <tr>\n",
              "      <th>2011-11</th>\n",
              "      <td>11265</td>\n",
              "      <td>11</td>\n",
              "    </tr>\n",
              "    <tr>\n",
              "      <th>2011-12</th>\n",
              "      <td>12565</td>\n",
              "      <td>14</td>\n",
              "    </tr>\n",
              "    <tr>\n",
              "      <th>2012-01</th>\n",
              "      <td>9737</td>\n",
              "      <td>14</td>\n",
              "    </tr>\n",
              "    <tr>\n",
              "      <th>2012-02</th>\n",
              "      <td>10771</td>\n",
              "      <td>14</td>\n",
              "    </tr>\n",
              "    <tr>\n",
              "      <th>2012-03</th>\n",
              "      <td>13366</td>\n",
              "      <td>14</td>\n",
              "    </tr>\n",
              "    <tr>\n",
              "      <th>2012-04</th>\n",
              "      <td>12711</td>\n",
              "      <td>11</td>\n",
              "    </tr>\n",
              "    <tr>\n",
              "      <th>2012-05</th>\n",
              "      <td>12829</td>\n",
              "      <td>13</td>\n",
              "    </tr>\n",
              "    <tr>\n",
              "      <th>2012-06</th>\n",
              "      <td>15533</td>\n",
              "      <td>12</td>\n",
              "    </tr>\n",
              "    <tr>\n",
              "      <th>2012-07-</th>\n",
              "      <td>11736</td>\n",
              "      <td>11</td>\n",
              "    </tr>\n",
              "    <tr>\n",
              "      <th>2012-08</th>\n",
              "      <td>7194</td>\n",
              "      <td>12</td>\n",
              "    </tr>\n",
              "    <tr>\n",
              "      <th>2012-09-</th>\n",
              "      <td>13749</td>\n",
              "      <td>13</td>\n",
              "    </tr>\n",
              "    <tr>\n",
              "      <th>2012-10-</th>\n",
              "      <td>7537</td>\n",
              "      <td>11</td>\n",
              "    </tr>\n",
              "    <tr>\n",
              "      <th>2012-11</th>\n",
              "      <td>15017</td>\n",
              "      <td>13</td>\n",
              "    </tr>\n",
              "    <tr>\n",
              "      <th>2012-12</th>\n",
              "      <td>18265</td>\n",
              "      <td>15</td>\n",
              "    </tr>\n",
              "    <tr>\n",
              "      <th>2013-01</th>\n",
              "      <td>14077</td>\n",
              "      <td>15</td>\n",
              "    </tr>\n",
              "    <tr>\n",
              "      <th>2013-02</th>\n",
              "      <td>12088</td>\n",
              "      <td>11</td>\n",
              "    </tr>\n",
              "    <tr>\n",
              "      <th>2013-03</th>\n",
              "      <td>16815</td>\n",
              "      <td>14</td>\n",
              "    </tr>\n",
              "    <tr>\n",
              "      <th>2013-04</th>\n",
              "      <td>14068</td>\n",
              "      <td>15</td>\n",
              "    </tr>\n",
              "    <tr>\n",
              "      <th>2013-05</th>\n",
              "      <td>18023</td>\n",
              "      <td>13</td>\n",
              "    </tr>\n",
              "    <tr>\n",
              "      <th>2013-06-</th>\n",
              "      <td>16640</td>\n",
              "      <td>15</td>\n",
              "    </tr>\n",
              "    <tr>\n",
              "      <th>2013-07</th>\n",
              "      <td>7803</td>\n",
              "      <td>13</td>\n",
              "    </tr>\n",
              "    <tr>\n",
              "      <th>2013-08</th>\n",
              "      <td>8808</td>\n",
              "      <td>15</td>\n",
              "    </tr>\n",
              "    <tr>\n",
              "      <th>2013-09</th>\n",
              "      <td>14742</td>\n",
              "      <td>18</td>\n",
              "    </tr>\n",
              "    <tr>\n",
              "      <th>2013-10</th>\n",
              "      <td>11984</td>\n",
              "      <td>17</td>\n",
              "    </tr>\n",
              "    <tr>\n",
              "      <th>2013-11</th>\n",
              "      <td>18243</td>\n",
              "      <td>18</td>\n",
              "    </tr>\n",
              "    <tr>\n",
              "      <th>2013-12</th>\n",
              "      <td>24401</td>\n",
              "      <td>22</td>\n",
              "    </tr>\n",
              "    <tr>\n",
              "      <th>2014-01</th>\n",
              "      <td>16397</td>\n",
              "      <td>21</td>\n",
              "    </tr>\n",
              "    <tr>\n",
              "      <th>2014-02</th>\n",
              "      <td>14618</td>\n",
              "      <td>16</td>\n",
              "    </tr>\n",
              "    <tr>\n",
              "      <th>2014-03</th>\n",
              "      <td>21538</td>\n",
              "      <td>14</td>\n",
              "    </tr>\n",
              "    <tr>\n",
              "      <th>2014-04</th>\n",
              "      <td>13631</td>\n",
              "      <td>16</td>\n",
              "    </tr>\n",
              "    <tr>\n",
              "      <th>2014-05</th>\n",
              "      <td>14725</td>\n",
              "      <td>20</td>\n",
              "    </tr>\n",
              "    <tr>\n",
              "      <th>2014-06</th>\n",
              "      <td>16942</td>\n",
              "      <td>16</td>\n",
              "    </tr>\n",
              "    <tr>\n",
              "      <th>2014-07</th>\n",
              "      <td>6241</td>\n",
              "      <td>17</td>\n",
              "    </tr>\n",
              "    <tr>\n",
              "      <th>2014-08</th>\n",
              "      <td>10648</td>\n",
              "      <td>18</td>\n",
              "    </tr>\n",
              "    <tr>\n",
              "      <th>2014-09</th>\n",
              "      <td>14132</td>\n",
              "      <td>16</td>\n",
              "    </tr>\n",
              "    <tr>\n",
              "      <th>2014-10</th>\n",
              "      <td>15086</td>\n",
              "      <td>15</td>\n",
              "    </tr>\n",
              "    <tr>\n",
              "      <th>2014-11</th>\n",
              "      <td>16644</td>\n",
              "      <td>16</td>\n",
              "    </tr>\n",
              "    <tr>\n",
              "      <th>2014-12</th>\n",
              "      <td>20880</td>\n",
              "      <td>22</td>\n",
              "    </tr>\n",
              "    <tr>\n",
              "      <th>2015-01</th>\n",
              "      <td>10453</td>\n",
              "      <td>16</td>\n",
              "    </tr>\n",
              "    <tr>\n",
              "      <th>2015-02</th>\n",
              "      <td>13138</td>\n",
              "      <td>15</td>\n",
              "    </tr>\n",
              "    <tr>\n",
              "      <th>2015-03</th>\n",
              "      <td>15224</td>\n",
              "      <td>25</td>\n",
              "    </tr>\n",
              "    <tr>\n",
              "      <th>2015-04</th>\n",
              "      <td>16978</td>\n",
              "      <td>29</td>\n",
              "    </tr>\n",
              "    <tr>\n",
              "      <th>2015-05</th>\n",
              "      <td>18902</td>\n",
              "      <td>21</td>\n",
              "    </tr>\n",
              "    <tr>\n",
              "      <th>2015-06</th>\n",
              "      <td>15423</td>\n",
              "      <td>14</td>\n",
              "    </tr>\n",
              "    <tr>\n",
              "      <th>2015-07</th>\n",
              "      <td>6688</td>\n",
              "      <td>22</td>\n",
              "    </tr>\n",
              "    <tr>\n",
              "      <th>2015-08</th>\n",
              "      <td>10409</td>\n",
              "      <td>17</td>\n",
              "    </tr>\n",
              "    <tr>\n",
              "      <th>2015-09</th>\n",
              "      <td>10652</td>\n",
              "      <td>15</td>\n",
              "    </tr>\n",
              "    <tr>\n",
              "      <th>2015-10</th>\n",
              "      <td>10755</td>\n",
              "      <td>19</td>\n",
              "    </tr>\n",
              "    <tr>\n",
              "      <th>2015-11</th>\n",
              "      <td>14951</td>\n",
              "      <td>24</td>\n",
              "    </tr>\n",
              "    <tr>\n",
              "      <th>2015-12</th>\n",
              "      <td>17067</td>\n",
              "      <td>29</td>\n",
              "    </tr>\n",
              "    <tr>\n",
              "      <th>2016-01</th>\n",
              "      <td>11065</td>\n",
              "      <td>33</td>\n",
              "    </tr>\n",
              "    <tr>\n",
              "      <th>2016-02</th>\n",
              "      <td>8497</td>\n",
              "      <td>29</td>\n",
              "    </tr>\n",
              "    <tr>\n",
              "      <th>2016-03</th>\n",
              "      <td>15971</td>\n",
              "      <td>26</td>\n",
              "    </tr>\n",
              "    <tr>\n",
              "      <th>2016-04</th>\n",
              "      <td>30922</td>\n",
              "      <td>25</td>\n",
              "    </tr>\n",
              "    <tr>\n",
              "      <th>2016-05</th>\n",
              "      <td>16841</td>\n",
              "      <td>25</td>\n",
              "    </tr>\n",
              "    <tr>\n",
              "      <th>2016-06</th>\n",
              "      <td>9055</td>\n",
              "      <td>16</td>\n",
              "    </tr>\n",
              "    <tr>\n",
              "      <th>2016-07</th>\n",
              "      <td>9499</td>\n",
              "      <td>33</td>\n",
              "    </tr>\n",
              "    <tr>\n",
              "      <th>2016-08</th>\n",
              "      <td>12663</td>\n",
              "      <td>19</td>\n",
              "    </tr>\n",
              "    <tr>\n",
              "      <th>2016-09</th>\n",
              "      <td>15141</td>\n",
              "      <td>21</td>\n",
              "    </tr>\n",
              "    <tr>\n",
              "      <th>2016-10</th>\n",
              "      <td>17444</td>\n",
              "      <td>22</td>\n",
              "    </tr>\n",
              "    <tr>\n",
              "      <th>2016-11</th>\n",
              "      <td>12876</td>\n",
              "      <td>23</td>\n",
              "    </tr>\n",
              "    <tr>\n",
              "      <th>2016-12</th>\n",
              "      <td>22410</td>\n",
              "      <td>36</td>\n",
              "    </tr>\n",
              "    <tr>\n",
              "      <th>2017-01</th>\n",
              "      <td>8614</td>\n",
              "      <td>34</td>\n",
              "    </tr>\n",
              "    <tr>\n",
              "      <th>2017-02</th>\n",
              "      <td>13410</td>\n",
              "      <td>23</td>\n",
              "    </tr>\n",
              "    <tr>\n",
              "      <th>2017-03</th>\n",
              "      <td>17439</td>\n",
              "      <td>24</td>\n",
              "    </tr>\n",
              "    <tr>\n",
              "      <th>2017-04</th>\n",
              "      <td>16189</td>\n",
              "      <td>27</td>\n",
              "    </tr>\n",
              "    <tr>\n",
              "      <th>2017-05</th>\n",
              "      <td>15452</td>\n",
              "      <td>23</td>\n",
              "    </tr>\n",
              "    <tr>\n",
              "      <th>2017-06</th>\n",
              "      <td>8360</td>\n",
              "      <td>35</td>\n",
              "    </tr>\n",
              "    <tr>\n",
              "      <th>2017-07</th>\n",
              "      <td>12017</td>\n",
              "      <td>30</td>\n",
              "    </tr>\n",
              "    <tr>\n",
              "      <th>2017-08</th>\n",
              "      <td>15189</td>\n",
              "      <td>22</td>\n",
              "    </tr>\n",
              "    <tr>\n",
              "      <th>2017-09</th>\n",
              "      <td>14120</td>\n",
              "      <td>25</td>\n",
              "    </tr>\n",
              "    <tr>\n",
              "      <th>2017-10</th>\n",
              "      <td>14151</td>\n",
              "      <td>23</td>\n",
              "    </tr>\n",
              "    <tr>\n",
              "      <th>2017-11</th>\n",
              "      <td>15541</td>\n",
              "      <td>24</td>\n",
              "    </tr>\n",
              "    <tr>\n",
              "      <th>2017-12</th>\n",
              "      <td>18031</td>\n",
              "      <td>48</td>\n",
              "    </tr>\n",
              "    <tr>\n",
              "      <th>2018-01</th>\n",
              "      <td>11600</td>\n",
              "      <td>31</td>\n",
              "    </tr>\n",
              "    <tr>\n",
              "      <th>2018-02</th>\n",
              "      <td>12302</td>\n",
              "      <td>23</td>\n",
              "    </tr>\n",
              "    <tr>\n",
              "      <th>2018-03</th>\n",
              "      <td>15793</td>\n",
              "      <td>25</td>\n",
              "    </tr>\n",
              "    <tr>\n",
              "      <th>2018-04</th>\n",
              "      <td>14248</td>\n",
              "      <td>25</td>\n",
              "    </tr>\n",
              "    <tr>\n",
              "      <th>2018-05</th>\n",
              "      <td>10571</td>\n",
              "      <td>20</td>\n",
              "    </tr>\n",
              "    <tr>\n",
              "      <th>2018-06</th>\n",
              "      <td>6493</td>\n",
              "      <td>54</td>\n",
              "    </tr>\n",
              "    <tr>\n",
              "      <th>2018-07</th>\n",
              "      <td>12814</td>\n",
              "      <td>28</td>\n",
              "    </tr>\n",
              "    <tr>\n",
              "      <th>2018-08</th>\n",
              "      <td>13766</td>\n",
              "      <td>22</td>\n",
              "    </tr>\n",
              "    <tr>\n",
              "      <th>2018-09</th>\n",
              "      <td>13399</td>\n",
              "      <td>26</td>\n",
              "    </tr>\n",
              "    <tr>\n",
              "      <th>2018-10</th>\n",
              "      <td>13918</td>\n",
              "      <td>21</td>\n",
              "    </tr>\n",
              "    <tr>\n",
              "      <th>2018-11</th>\n",
              "      <td>14364</td>\n",
              "      <td>27</td>\n",
              "    </tr>\n",
              "    <tr>\n",
              "      <th>2018-12</th>\n",
              "      <td>17375</td>\n",
              "      <td>54</td>\n",
              "    </tr>\n",
              "    <tr>\n",
              "      <th>2019-01</th>\n",
              "      <td>12529</td>\n",
              "      <td>30</td>\n",
              "    </tr>\n",
              "    <tr>\n",
              "      <th>2019-02</th>\n",
              "      <td>15172</td>\n",
              "      <td>23</td>\n",
              "    </tr>\n",
              "    <tr>\n",
              "      <th>2019-03</th>\n",
              "      <td>16440</td>\n",
              "      <td>22</td>\n",
              "    </tr>\n",
              "    <tr>\n",
              "      <th>2019-04</th>\n",
              "      <td>14830</td>\n",
              "      <td>25</td>\n",
              "    </tr>\n",
              "    <tr>\n",
              "      <th>2019-05</th>\n",
              "      <td>8168</td>\n",
              "      <td>16</td>\n",
              "    </tr>\n",
              "    <tr>\n",
              "      <th>2019-06</th>\n",
              "      <td>8881</td>\n",
              "      <td>60</td>\n",
              "    </tr>\n",
              "    <tr>\n",
              "      <th>2019-07</th>\n",
              "      <td>12645</td>\n",
              "      <td>28</td>\n",
              "    </tr>\n",
              "    <tr>\n",
              "      <th>2019-08</th>\n",
              "      <td>14129</td>\n",
              "      <td>20</td>\n",
              "    </tr>\n",
              "    <tr>\n",
              "      <th>2019-09</th>\n",
              "      <td>13028</td>\n",
              "      <td>22</td>\n",
              "    </tr>\n",
              "    <tr>\n",
              "      <th>2019-10</th>\n",
              "      <td>13569</td>\n",
              "      <td>22</td>\n",
              "    </tr>\n",
              "    <tr>\n",
              "      <th>2019-11</th>\n",
              "      <td>14715</td>\n",
              "      <td>28</td>\n",
              "    </tr>\n",
              "    <tr>\n",
              "      <th>2019-12</th>\n",
              "      <td>15159</td>\n",
              "      <td>49</td>\n",
              "    </tr>\n",
              "    <tr>\n",
              "      <th>2020-01</th>\n",
              "      <td>12100</td>\n",
              "      <td>30</td>\n",
              "    </tr>\n",
              "    <tr>\n",
              "      <th>2020-02</th>\n",
              "      <td>12686</td>\n",
              "      <td>20</td>\n",
              "    </tr>\n",
              "    <tr>\n",
              "      <th>2020-03</th>\n",
              "      <td>5880</td>\n",
              "      <td>11</td>\n",
              "    </tr>\n",
              "    <tr>\n",
              "      <th>2020-04</th>\n",
              "      <td>12686</td>\n",
              "      <td>4</td>\n",
              "    </tr>\n",
              "    <tr>\n",
              "      <th>2020-05</th>\n",
              "      <td>5880</td>\n",
              "      <td>8</td>\n",
              "    </tr>\n",
              "  </tbody>\n",
              "</table>\n",
              "</div>"
            ],
            "text/plain": [
              "            bps  trends\n",
              "time                   \n",
              "2010-01    6678      17\n",
              "2010-02    6990      26\n",
              "2010-03    7285      12\n",
              "2010-04    6984      36\n",
              "2010-05    8358      23\n",
              "2010-06    7868      21\n",
              "2010-07    8531      25\n",
              "2010-08    7408       8\n",
              "2010-09    5410       9\n",
              "2010-10    9799      22\n",
              "2010-11    6598      14\n",
              "2010-12   10570      18\n",
              "2011-01    9669      13\n",
              "2011-02    8912      15\n",
              "2011-03    9224      10\n",
              "2011-04    9949      15\n",
              "2011-05    9592      13\n",
              "2011-06   11262      13\n",
              "2011-07   12020      10\n",
              "2011-08    6673      10\n",
              "2011-09    7138      13\n",
              "2011-10    9281      10\n",
              "2011-11   11265      11\n",
              "2011-12   12565      14\n",
              "2012-01    9737      14\n",
              "2012-02   10771      14\n",
              "2012-03   13366      14\n",
              "2012-04   12711      11\n",
              "2012-05   12829      13\n",
              "2012-06   15533      12\n",
              "2012-07-  11736      11\n",
              "2012-08    7194      12\n",
              "2012-09-  13749      13\n",
              "2012-10-   7537      11\n",
              "2012-11   15017      13\n",
              "2012-12   18265      15\n",
              "2013-01   14077      15\n",
              "2013-02   12088      11\n",
              "2013-03   16815      14\n",
              "2013-04   14068      15\n",
              "2013-05   18023      13\n",
              "2013-06-  16640      15\n",
              "2013-07    7803      13\n",
              "2013-08    8808      15\n",
              "2013-09   14742      18\n",
              "2013-10   11984      17\n",
              "2013-11   18243      18\n",
              "2013-12   24401      22\n",
              "2014-01   16397      21\n",
              "2014-02   14618      16\n",
              "2014-03   21538      14\n",
              "2014-04   13631      16\n",
              "2014-05   14725      20\n",
              "2014-06   16942      16\n",
              "2014-07    6241      17\n",
              "2014-08   10648      18\n",
              "2014-09   14132      16\n",
              "2014-10   15086      15\n",
              "2014-11   16644      16\n",
              "2014-12   20880      22\n",
              "2015-01   10453      16\n",
              "2015-02   13138      15\n",
              "2015-03   15224      25\n",
              "2015-04   16978      29\n",
              "2015-05   18902      21\n",
              "2015-06   15423      14\n",
              "2015-07    6688      22\n",
              "2015-08   10409      17\n",
              "2015-09   10652      15\n",
              "2015-10   10755      19\n",
              "2015-11   14951      24\n",
              "2015-12   17067      29\n",
              "2016-01   11065      33\n",
              "2016-02    8497      29\n",
              "2016-03   15971      26\n",
              "2016-04   30922      25\n",
              "2016-05   16841      25\n",
              "2016-06    9055      16\n",
              "2016-07    9499      33\n",
              "2016-08   12663      19\n",
              "2016-09   15141      21\n",
              "2016-10   17444      22\n",
              "2016-11   12876      23\n",
              "2016-12   22410      36\n",
              "2017-01    8614      34\n",
              "2017-02   13410      23\n",
              "2017-03   17439      24\n",
              "2017-04   16189      27\n",
              "2017-05   15452      23\n",
              "2017-06    8360      35\n",
              "2017-07   12017      30\n",
              "2017-08   15189      22\n",
              "2017-09   14120      25\n",
              "2017-10   14151      23\n",
              "2017-11   15541      24\n",
              "2017-12   18031      48\n",
              "2018-01   11600      31\n",
              "2018-02   12302      23\n",
              "2018-03   15793      25\n",
              "2018-04   14248      25\n",
              "2018-05   10571      20\n",
              "2018-06    6493      54\n",
              "2018-07   12814      28\n",
              "2018-08   13766      22\n",
              "2018-09   13399      26\n",
              "2018-10   13918      21\n",
              "2018-11   14364      27\n",
              "2018-12   17375      54\n",
              "2019-01   12529      30\n",
              "2019-02   15172      23\n",
              "2019-03   16440      22\n",
              "2019-04   14830      25\n",
              "2019-05    8168      16\n",
              "2019-06    8881      60\n",
              "2019-07   12645      28\n",
              "2019-08   14129      20\n",
              "2019-09   13028      22\n",
              "2019-10   13569      22\n",
              "2019-11   14715      28\n",
              "2019-12   15159      49\n",
              "2020-01   12100      30\n",
              "2020-02   12686      20\n",
              "2020-03    5880      11\n",
              "2020-04   12686       4\n",
              "2020-05    5880       8"
            ]
          },
          "metadata": {
            "tags": []
          },
          "execution_count": 26
        }
      ]
    },
    {
      "cell_type": "code",
      "metadata": {
        "colab": {
          "base_uri": "https://localhost:8080/",
          "height": 351
        },
        "id": "-r9sFXv2BHYB",
        "outputId": "f4b04b66-ef24-4eef-e3d3-1d5cbc252b7a"
      },
      "source": [
        "#Plot Data\r\n",
        "data['bps'].plot(figsize=(12,5))"
      ],
      "execution_count": 27,
      "outputs": [
        {
          "output_type": "execute_result",
          "data": {
            "text/plain": [
              "<matplotlib.axes._subplots.AxesSubplot at 0x7f99686e6be0>"
            ]
          },
          "metadata": {
            "tags": []
          },
          "execution_count": 27
        },
        {
          "output_type": "display_data",
          "data": {
            "image/png": "[encoded data removed]",
            "text/plain": [
              "<Figure size 864x360 with 1 Axes>"
            ]
          },
          "metadata": {
            "tags": [],
            "needs_background": "light"
          }
        }
      ]
    },
    {
      "cell_type": "markdown",
      "metadata": {
        "id": "XNXZRLbdrtls"
      },
      "source": [
        "# Checking for Stationarity of Time-Series Data"
      ]
    },
    {
      "cell_type": "code",
      "metadata": {
        "id": "dmkIA6YitjAB"
      },
      "source": [
        "# using The Augmented Dickey Fuller (ADF) test\r\n",
        "def ad_test(dataset):\r\n",
        "  dftest = adfuller(dataset, autolag = 'AIC')\r\n",
        "  print('ADF = ',dftest[0])\r\n",
        "  print('P-Value = ',dftest[1])\r\n",
        "  print('Num of Lags = ',dftest[2])\r\n",
        "  print('Num of Observations Used for ADF Regression and Critical Value Calculation = ',dftest[3])\r\n",
        "  print('Critical Values : ')\r\n",
        "  for key, val in dftest[4].items():\r\n",
        "    print(\"\\t\",key,\": \",val)"
      ],
      "execution_count": 28,
      "outputs": []
    },
    {
      "cell_type": "code",
      "metadata": {
        "colab": {
          "base_uri": "https://localhost:8080/"
        },
        "id": "igqFFn0Lvr_C",
        "outputId": "9211ddb9-0def-49dd-8100-fca95bc230d7"
      },
      "source": [
        "print('ADF Statistic for BPS: ')\r\n",
        "ad_test(data['bps'])"
      ],
      "execution_count": 29,
      "outputs": [
        {
          "output_type": "stream",
          "text": [
            "ADF Statistic for BPS: \n",
            "ADF =  -2.3822708107499846\n",
            "P-Value =  0.146802990789629\n",
            "Num of Lags =  13\n",
            "Num of Observations Used for ADF Regression and Critical Value Calculation =  111\n",
            "Critical Values : \n",
            "\t 1% :  -3.490683082754047\n",
            "\t 5% :  -2.8879516565798817\n",
            "\t 10% :  -2.5808574442009578\n"
          ],
          "name": "stdout"
        }
      ]
    },
    {
      "cell_type": "code",
      "metadata": {
        "colab": {
          "base_uri": "https://localhost:8080/"
        },
        "id": "q5yNZiUFSgtW",
        "outputId": "d422425b-0fb0-4992-e433-39e50619ae2d"
      },
      "source": [
        "data['const']=1 #Adding a constant\r\n",
        "data['diffS']=data['bps'].diff() #First order differencing for BPS\r\n",
        "data['diffM']=data['trends'].diff() #First order differencing for Google Trends\r\n",
        "\r\n",
        "#Fitting the model on the differenced data\r\n",
        "model1=sm.OLS(endog=data['diffS'].dropna(),exog=data[['diffM','const']].dropna())\r\n",
        "results1=model1.fit()\r\n",
        "print(results1.summary())"
      ],
      "execution_count": 30,
      "outputs": [
        {
          "output_type": "stream",
          "text": [
            "                            OLS Regression Results                            \n",
            "==============================================================================\n",
            "Dep. Variable:                  diffS   R-squared:                       0.002\n",
            "Model:                            OLS   Adj. R-squared:                 -0.006\n",
            "Method:                 Least Squares   F-statistic:                    0.2899\n",
            "Date:                Tue, 09 Feb 2021   Prob (F-statistic):              0.591\n",
            "Time:                        04:19:39   Log-Likelihood:                -1220.8\n",
            "No. Observations:                 124   AIC:                             2446.\n",
            "Df Residuals:                     122   BIC:                             2451.\n",
            "Df Model:                           1                                         \n",
            "Covariance Type:            nonrobust                                         \n",
            "==============================================================================\n",
            "                 coef    std err          t      P>|t|      [0.025      0.975]\n",
            "------------------------------------------------------------------------------\n",
            "diffM         22.6392     42.046      0.538      0.591     -60.596     105.874\n",
            "const         -4.7923    413.195     -0.012      0.991    -822.753     813.168\n",
            "==============================================================================\n",
            "Omnibus:                        8.752   Durbin-Watson:                   2.550\n",
            "Prob(Omnibus):                  0.013   Jarque-Bera (JB):               10.397\n",
            "Skew:                          -0.435   Prob(JB):                      0.00552\n",
            "Kurtosis:                       4.120   Cond. No.                         9.83\n",
            "==============================================================================\n",
            "\n",
            "Notes:\n",
            "[1] Standard Errors assume that the covariance matrix of the errors is correctly specified.\n"
          ],
          "name": "stdout"
        }
      ]
    },
    {
      "cell_type": "markdown",
      "metadata": {
        "id": "QBlKrrVZKAhl"
      },
      "source": [
        "# Autocorrelation Function Plot (ACF) and Partial Autocorrelation Function (PACF)"
      ]
    },
    {
      "cell_type": "code",
      "metadata": {
        "id": "LR_tzmCCtDZq",
        "colab": {
          "base_uri": "https://localhost:8080/",
          "height": 584
        },
        "outputId": "27d31336-2e5d-40d4-8c23-589eef89775b"
      },
      "source": [
        "fig = plt.figure(figsize=(12,20))\r\n",
        "ax1 = fig.add_subplot(411)\r\n",
        "fig = sm.graphics.tsa.plot_acf(data['bps'], lags=40, ax=ax1)\r\n",
        "ax2 = fig.add_subplot(412)\r\n",
        "fig = sm.graphics.tsa.plot_pacf(data['bps'], lags=40, ax=ax2)\r\n",
        "plt.show()"
      ],
      "execution_count": 31,
      "outputs": [
        {
          "output_type": "display_data",
          "data": {
            "image/png": "[encoded data removed]",
            "text/plain": [
              "<Figure size 864x1440 with 2 Axes>"
            ]
          },
          "metadata": {
            "tags": [],
            "needs_background": "light"
          }
        }
      ]
    },
    {
      "cell_type": "code",
      "metadata": {
        "id": "QfA5hJRUuWEI",
        "colab": {
          "base_uri": "https://localhost:8080/",
          "height": 584
        },
        "outputId": "c63e36d4-4d98-43b9-ed01-76136621e4c0"
      },
      "source": [
        "fig = plt.figure(figsize=(12,20))\r\n",
        "ax1 = fig.add_subplot(411)\r\n",
        "#Plots with first order differenced bps variable\r\n",
        "fig = sm.graphics.tsa.plot_acf(data['bps'].diff().dropna(), lags=40, ax=ax1)\r\n",
        "ax2 = fig.add_subplot(412)\r\n",
        "fig = sm.graphics.tsa.plot_pacf(data['bps'].diff().dropna(), lags=40, ax=ax2)\r\n",
        "plt.show()"
      ],
      "execution_count": 32,
      "outputs": [
        {
          "output_type": "display_data",
          "data": {
            "image/png": "[encoded data removed]",
            "text/plain": [
              "<Figure size 864x1440 with 2 Axes>"
            ]
          },
          "metadata": {
            "tags": [],
            "needs_background": "light"
          }
        }
      ]
    },
    {
      "cell_type": "markdown",
      "metadata": {
        "id": "nZdg9of82hrd"
      },
      "source": [
        "# Figure Out Order of ARIMA Model"
      ]
    },
    {
      "cell_type": "code",
      "metadata": {
        "id": "BrBvoZ5W2n7P",
        "colab": {
          "base_uri": "https://localhost:8080/"
        },
        "outputId": "c914b80a-07c8-4733-85f2-6fcb53e06792"
      },
      "source": [
        "stepwise_fit = auto_arima(data['bps'], trace=True, suppress_warnings=True)\r\n",
        "print(stepwise_fit.summary())"
      ],
      "execution_count": 33,
      "outputs": [
        {
          "output_type": "stream",
          "text": [
            "Performing stepwise search to minimize aic\n",
            " ARIMA(2,1,2)(0,0,0)[0] intercept   : AIC=2396.908, Time=0.51 sec\n",
            " ARIMA(0,1,0)(0,0,0)[0] intercept   : AIC=2445.815, Time=0.01 sec\n",
            " ARIMA(1,1,0)(0,0,0)[0] intercept   : AIC=2437.226, Time=0.02 sec\n",
            " ARIMA(0,1,1)(0,0,0)[0] intercept   : AIC=2404.987, Time=0.10 sec\n",
            " ARIMA(0,1,0)(0,0,0)[0]             : AIC=2443.819, Time=0.01 sec\n",
            " ARIMA(1,1,2)(0,0,0)[0] intercept   : AIC=2401.919, Time=0.10 sec\n",
            " ARIMA(2,1,1)(0,0,0)[0] intercept   : AIC=2402.735, Time=0.07 sec\n",
            " ARIMA(3,1,2)(0,0,0)[0] intercept   : AIC=2405.055, Time=0.17 sec\n",
            " ARIMA(2,1,3)(0,0,0)[0] intercept   : AIC=2405.101, Time=0.23 sec\n",
            " ARIMA(1,1,1)(0,0,0)[0] intercept   : AIC=2404.582, Time=0.06 sec\n",
            " ARIMA(1,1,3)(0,0,0)[0] intercept   : AIC=2398.016, Time=0.37 sec\n",
            " ARIMA(3,1,1)(0,0,0)[0] intercept   : AIC=2404.704, Time=0.10 sec\n",
            " ARIMA(3,1,3)(0,0,0)[0] intercept   : AIC=inf, Time=0.56 sec\n",
            " ARIMA(2,1,2)(0,0,0)[0]             : AIC=2395.059, Time=0.22 sec\n",
            " ARIMA(1,1,2)(0,0,0)[0]             : AIC=2400.529, Time=0.07 sec\n",
            " ARIMA(2,1,1)(0,0,0)[0]             : AIC=2401.115, Time=0.06 sec\n",
            " ARIMA(3,1,2)(0,0,0)[0]             : AIC=2403.664, Time=0.09 sec\n",
            " ARIMA(2,1,3)(0,0,0)[0]             : AIC=2402.663, Time=0.40 sec\n",
            " ARIMA(1,1,1)(0,0,0)[0]             : AIC=2403.120, Time=0.05 sec\n",
            " ARIMA(1,1,3)(0,0,0)[0]             : AIC=2395.176, Time=0.37 sec\n",
            " ARIMA(3,1,1)(0,0,0)[0]             : AIC=2403.079, Time=0.08 sec\n",
            " ARIMA(3,1,3)(0,0,0)[0]             : AIC=inf, Time=0.47 sec\n",
            "\n",
            "Best model:  ARIMA(2,1,2)(0,0,0)[0]          \n",
            "Total fit time: 4.139 seconds\n",
            "                               SARIMAX Results                                \n",
            "==============================================================================\n",
            "Dep. Variable:                      y   No. Observations:                  125\n",
            "Model:               SARIMAX(2, 1, 2)   Log Likelihood               -1192.529\n",
            "Date:                Tue, 09 Feb 2021   AIC                           2395.059\n",
            "Time:                        04:19:44   BIC                           2409.160\n",
            "Sample:                             0   HQIC                          2400.787\n",
            "                                - 125                                         \n",
            "Covariance Type:                  opg                                         \n",
            "==============================================================================\n",
            "                 coef    std err          z      P>|z|      [0.025      0.975]\n",
            "------------------------------------------------------------------------------\n",
            "ar.L1          1.1455      0.129      8.861      0.000       0.892       1.399\n",
            "ar.L2         -0.4155      0.105     -3.953      0.000      -0.621      -0.210\n",
            "ma.L1         -1.8875      0.057    -33.401      0.000      -1.998      -1.777\n",
            "ma.L2          0.9597      0.055     17.405      0.000       0.852       1.068\n",
            "sigma2      1.524e+07    2.7e-09   5.65e+15      0.000    1.52e+07    1.52e+07\n",
            "===================================================================================\n",
            "Ljung-Box (L1) (Q):                   0.00   Jarque-Bera (JB):                69.78\n",
            "Prob(Q):                              0.96   Prob(JB):                         0.00\n",
            "Heteroskedasticity (H):               1.70   Skew:                             0.37\n",
            "Prob(H) (two-sided):                  0.09   Kurtosis:                         6.60\n",
            "===================================================================================\n",
            "\n",
            "Warnings:\n",
            "[1] Covariance matrix calculated using the outer product of gradients (complex-step).\n",
            "[2] Covariance matrix is singular or near-singular, with condition number 3.02e+31. Standard errors may be unstable.\n"
          ],
          "name": "stdout"
        }
      ]
    },
    {
      "cell_type": "markdown",
      "metadata": {
        "id": "cpkuRtjDJB97"
      },
      "source": [
        "# Split Data into Training and Testing"
      ]
    },
    {
      "cell_type": "code",
      "metadata": {
        "id": "vIcaQIldJVhS",
        "colab": {
          "base_uri": "https://localhost:8080/"
        },
        "outputId": "68181413-05e2-4bb0-d211-acf3b992ba41"
      },
      "source": [
        "print(data.shape)\r\n",
        "\r\n",
        "train_data = data.iloc[:-100]\r\n",
        "test_data = data.iloc[-30:]\r\n",
        "print(train_data.shape, test_data.shape)"
      ],
      "execution_count": 34,
      "outputs": [
        {
          "output_type": "stream",
          "text": [
            "(125, 5)\n",
            "(25, 5) (30, 5)\n"
          ],
          "name": "stdout"
        }
      ]
    },
    {
      "cell_type": "markdown",
      "metadata": {
        "id": "AVdaZ7dZnHMR"
      },
      "source": [
        "# Train Model ARIMA"
      ]
    },
    {
      "cell_type": "code",
      "metadata": {
        "id": "C9MLmcmE5dwG",
        "colab": {
          "base_uri": "https://localhost:8080/",
          "height": 435
        },
        "outputId": "bb202e18-758b-454a-8c38-50013a329443"
      },
      "source": [
        "model=ARIMA(train_data['bps'],order=(2,1,2))\r\n",
        "model=model.fit()\r\n",
        "model.summary()"
      ],
      "execution_count": 35,
      "outputs": [
        {
          "output_type": "execute_result",
          "data": {
            "text/html": [
              "<table class=\"simpletable\">\n",
              "<caption>ARIMA Model Results</caption>\n",
              "<tr>\n",
              "  <th>Dep. Variable:</th>       <td>D.bps</td>      <th>  No. Observations:  </th>    <td>24</td>   \n",
              "</tr>\n",
              "<tr>\n",
              "  <th>Model:</th>          <td>ARIMA(2, 1, 2)</td>  <th>  Log Likelihood     </th> <td>-210.945</td>\n",
              "</tr>\n",
              "<tr>\n",
              "  <th>Method:</th>             <td>css-mle</td>     <th>  S.D. of innovations</th> <td>1485.112</td>\n",
              "</tr>\n",
              "<tr>\n",
              "  <th>Date:</th>          <td>Tue, 09 Feb 2021</td> <th>  AIC                </th>  <td>433.890</td>\n",
              "</tr>\n",
              "<tr>\n",
              "  <th>Time:</th>              <td>04:19:45</td>     <th>  BIC                </th>  <td>440.958</td>\n",
              "</tr>\n",
              "<tr>\n",
              "  <th>Sample:</th>           <td>02-01-2010</td>    <th>  HQIC               </th>  <td>435.765</td>\n",
              "</tr>\n",
              "<tr>\n",
              "  <th></th>                 <td>- 01-01-2012</td>   <th>                     </th>     <td> </td>   \n",
              "</tr>\n",
              "</table>\n",
              "<table class=\"simpletable\">\n",
              "<tr>\n",
              "       <td></td>          <th>coef</th>     <th>std err</th>      <th>z</th>      <th>P>|z|</th>  <th>[0.025</th>    <th>0.975]</th>  \n",
              "</tr>\n",
              "<tr>\n",
              "  <th>const</th>       <td>  154.6163</td> <td>   42.472</td> <td>    3.640</td> <td> 0.000</td> <td>   71.373</td> <td>  237.860</td>\n",
              "</tr>\n",
              "<tr>\n",
              "  <th>ar.L1.D.bps</th> <td>   -0.8225</td> <td>    0.389</td> <td>   -2.112</td> <td> 0.035</td> <td>   -1.586</td> <td>   -0.059</td>\n",
              "</tr>\n",
              "<tr>\n",
              "  <th>ar.L2.D.bps</th> <td>   -0.0058</td> <td>    0.218</td> <td>   -0.027</td> <td> 0.979</td> <td>   -0.432</td> <td>    0.421</td>\n",
              "</tr>\n",
              "<tr>\n",
              "  <th>ma.L1.D.bps</th> <td>   -0.1131</td> <td>    0.364</td> <td>   -0.311</td> <td> 0.756</td> <td>   -0.827</td> <td>    0.601</td>\n",
              "</tr>\n",
              "<tr>\n",
              "  <th>ma.L2.D.bps</th> <td>   -0.8869</td> <td>    0.360</td> <td>   -2.461</td> <td> 0.014</td> <td>   -1.593</td> <td>   -0.180</td>\n",
              "</tr>\n",
              "</table>\n",
              "<table class=\"simpletable\">\n",
              "<caption>Roots</caption>\n",
              "<tr>\n",
              "    <td></td>   <th>            Real</th>  <th>         Imaginary</th> <th>         Modulus</th>  <th>        Frequency</th>\n",
              "</tr>\n",
              "<tr>\n",
              "  <th>AR.1</th> <td>          -1.2265</td> <td>          +0.0000j</td> <td>           1.2265</td> <td>           0.5000</td>\n",
              "</tr>\n",
              "<tr>\n",
              "  <th>AR.2</th> <td>        -140.5414</td> <td>          +0.0000j</td> <td>         140.5414</td> <td>           0.5000</td>\n",
              "</tr>\n",
              "<tr>\n",
              "  <th>MA.1</th> <td>           1.0000</td> <td>          +0.0000j</td> <td>           1.0000</td> <td>           0.0000</td>\n",
              "</tr>\n",
              "<tr>\n",
              "  <th>MA.2</th> <td>          -1.1276</td> <td>          +0.0000j</td> <td>           1.1276</td> <td>           0.5000</td>\n",
              "</tr>\n",
              "</table>"
            ],
            "text/plain": [
              "<class 'statsmodels.iolib.summary.Summary'>\n",
              "\"\"\"\n",
              "                             ARIMA Model Results                              \n",
              "==============================================================================\n",
              "Dep. Variable:                  D.bps   No. Observations:                   24\n",
              "Model:                 ARIMA(2, 1, 2)   Log Likelihood                -210.945\n",
              "Method:                       css-mle   S.D. of innovations           1485.112\n",
              "Date:                Tue, 09 Feb 2021   AIC                            433.890\n",
              "Time:                        04:19:45   BIC                            440.958\n",
              "Sample:                    02-01-2010   HQIC                           435.765\n",
              "                         - 01-01-2012                                         \n",
              "===============================================================================\n",
              "                  coef    std err          z      P>|z|      [0.025      0.975]\n",
              "-------------------------------------------------------------------------------\n",
              "const         154.6163     42.472      3.640      0.000      71.373     237.860\n",
              "ar.L1.D.bps    -0.8225      0.389     -2.112      0.035      -1.586      -0.059\n",
              "ar.L2.D.bps    -0.0058      0.218     -0.027      0.979      -0.432       0.421\n",
              "ma.L1.D.bps    -0.1131      0.364     -0.311      0.756      -0.827       0.601\n",
              "ma.L2.D.bps    -0.8869      0.360     -2.461      0.014      -1.593      -0.180\n",
              "                                    Roots                                    \n",
              "=============================================================================\n",
              "                  Real          Imaginary           Modulus         Frequency\n",
              "-----------------------------------------------------------------------------\n",
              "AR.1           -1.2265           +0.0000j            1.2265            0.5000\n",
              "AR.2         -140.5414           +0.0000j          140.5414            0.5000\n",
              "MA.1            1.0000           +0.0000j            1.0000            0.0000\n",
              "MA.2           -1.1276           +0.0000j            1.1276            0.5000\n",
              "-----------------------------------------------------------------------------\n",
              "\"\"\""
            ]
          },
          "metadata": {
            "tags": []
          },
          "execution_count": 35
        }
      ]
    },
    {
      "cell_type": "markdown",
      "metadata": {
        "id": "lcnL_bCanL_M"
      },
      "source": [
        "Make Prediction on Test Set"
      ]
    },
    {
      "cell_type": "code",
      "metadata": {
        "id": "b4ycJOLwXzjm",
        "colab": {
          "base_uri": "https://localhost:8080/"
        },
        "outputId": "7daac4fb-5a64-4455-e6ae-025659f99a6c"
      },
      "source": [
        "start = len(train_data)\r\n",
        "end = len(train_data)+len(test_data)-1\r\n",
        "pred = model.predict(start=start, end=end, typ='levels').rename('ARIMA Predictions')\r\n",
        "pred.index=data.index[start:end+1]\r\n",
        "pred"
      ],
      "execution_count": 36,
      "outputs": [
        {
          "output_type": "execute_result",
          "data": {
            "text/plain": [
              "time\n",
              "2012-02     10618.125658\n",
              "2012-03     11103.056349\n",
              "2012-04     10981.788016\n",
              "2012-05     11361.391708\n",
              "2012-06     11332.565790\n",
              "2012-07-    11636.750483\n",
              "2012-08     11669.417259\n",
              "2012-09-    11923.464305\n",
              "2012-10-    11997.010468\n",
              "2012-11     12217.726786\n",
              "2012-12     12318.448929\n",
              "2013-01     12517.007498\n",
              "2013-02     12635.795809\n",
              "2013-03     12819.624252\n",
              "2013-04     12950.422671\n",
              "2013-05     13124.458755\n",
              "2013-06-    13263.241306\n",
              "2013-07     13430.767583\n",
              "2013-08     13574.857860\n",
              "2013-09     13738.056519\n",
              "2013-10     13885.675290\n",
              "2013-11     14045.997016\n",
              "2013-12     14195.961475\n",
              "2014-01     14354.370660\n",
              "2014-02     14505.894496\n",
              "2014-03     14663.032254\n",
              "2014-04     14815.592739\n",
              "2014-05     14971.885272\n",
              "2014-06     15125.134906\n",
              "2014-07     15280.865546\n",
              "Name: ARIMA Predictions, dtype: float64"
            ]
          },
          "metadata": {
            "tags": []
          },
          "execution_count": 36
        }
      ]
    },
    {
      "cell_type": "code",
      "metadata": {
        "id": "KLCUcIRC634v",
        "colab": {
          "base_uri": "https://localhost:8080/",
          "height": 296
        },
        "outputId": "726f3803-0014-46ab-8600-4ccf8e0f120d"
      },
      "source": [
        "pred.plot(legend=True)\r\n",
        "train_data['bps'].plot(legend=True)"
      ],
      "execution_count": 37,
      "outputs": [
        {
          "output_type": "execute_result",
          "data": {
            "text/plain": [
              "<matplotlib.axes._subplots.AxesSubplot at 0x7f996591d208>"
            ]
          },
          "metadata": {
            "tags": []
          },
          "execution_count": 37
        },
        {
          "output_type": "display_data",
          "data": {
            "image/png": "[encoded data removed]",
            "text/plain": [
              "<Figure size 432x288 with 1 Axes>"
            ]
          },
          "metadata": {
            "tags": [],
            "needs_background": "light"
          }
        }
      ]
    },
    {
      "cell_type": "code",
      "metadata": {
        "id": "JomIuQfqnZ2Z",
        "colab": {
          "base_uri": "https://localhost:8080/",
          "height": 296
        },
        "outputId": "0d2d35ca-d6a6-4c61-de04-c5ec2325ebdb"
      },
      "source": [
        "pred.plot(legend=True)\r\n",
        "test_data['bps'].plot(legend=True)"
      ],
      "execution_count": 38,
      "outputs": [
        {
          "output_type": "execute_result",
          "data": {
            "text/plain": [
              "<matplotlib.axes._subplots.AxesSubplot at 0x7f9965c55eb8>"
            ]
          },
          "metadata": {
            "tags": []
          },
          "execution_count": 38
        },
        {
          "output_type": "display_data",
          "data": {
            "image/png": "[encoded data removed]",
            "text/plain": [
              "<Figure size 432x288 with 1 Axes>"
            ]
          },
          "metadata": {
            "tags": [],
            "needs_background": "light"
          }
        }
      ]
    },
    {
      "cell_type": "code",
      "metadata": {
        "id": "Ycs_MKtQK01Y",
        "colab": {
          "base_uri": "https://localhost:8080/"
        },
        "outputId": "aebe30db-66bb-4e08-ff8d-ccd5513af4e1"
      },
      "source": [
        "mape = np.mean(np.abs((np.array(test_data['bps']) - pred) / np.array(test_data['bps']))) * 100\r\n",
        "mse=mean_squared_error(pred,test_data['bps'])\r\n",
        "rmse=np.sqrt(mean_squared_error(pred,test_data['bps']))\r\n",
        "\r\n",
        "print('MAPE = {0:.4f} '.format(mape))\r\n",
        "print('MSE = {0:.4f} '.format(mse))\r\n",
        "print('RMSE = {0:.4f} '.format(rmse))"
      ],
      "execution_count": 39,
      "outputs": [
        {
          "output_type": "stream",
          "text": [
            "MAPE = 28.0312 \n",
            "MSE = 13542905.9860 \n",
            "RMSE = 3680.0687 \n"
          ],
          "name": "stdout"
        }
      ]
    },
    {
      "cell_type": "markdown",
      "metadata": {
        "id": "iLfQwp7QKyCk"
      },
      "source": [
        "# Train the ARIMAX Model"
      ]
    },
    {
      "cell_type": "code",
      "metadata": {
        "id": "1KUglrUEK4Qn",
        "colab": {
          "base_uri": "https://localhost:8080/"
        },
        "outputId": "2f645727-6383-4952-8412-93cad5c30e7c"
      },
      "source": [
        "# The (p,d,q) order of the model for the number of AR parameters, differences, and MA parameters to use.\r\n",
        "# using Best Model from ARIMA (2,1,2) => AR = 2; Diff/Integ = 1; MA = 2\r\n",
        "\r\n",
        "arimax = pf.ARIMAX(data=data, formula='bps~trends',ar=2, integ=1, ma=2, family=pf.Normal())\r\n",
        "model = arimax.fit(\"MLE\")\r\n",
        "model.summary()"
      ],
      "execution_count": 40,
      "outputs": [
        {
          "output_type": "stream",
          "text": [
            "Normal ARIMAX(2,1,2)                                                                                      \n",
            "======================================================= ==================================================\n",
            "Dependent Variable: Differenced bps                     Method: MLE                                       \n",
            "Start Date: 2010-03                                     Log Likelihood: -1174.4346                        \n",
            "End Date: 2020-05                                       AIC: 2362.8692                                    \n",
            "Number of observations: 122                             BIC: 2382.4974                                    \n",
            "==========================================================================================================\n",
            "Latent Variable                          Estimate   Std Error  z        P>|z|    95% C.I.                 \n",
            "======================================== ========== ========== ======== ======== =========================\n",
            "AR(1)                                    1.0522     0.1738     6.0547   0.0      (0.7116 | 1.3929)        \n",
            "AR(2)                                    -0.3929    0.1234     -3.185   0.0014   (-0.6347 | -0.1511)      \n",
            "MA(1)                                    -1.7801    0.1445     -12.3151 0.0      (-2.0634 | -1.4968)      \n",
            "MA(2)                                    0.8469     0.1672     5.064    0.0      (0.5191 | 1.1747)        \n",
            "Beta 1                                   0.0865     151.3592   0.0006   0.9995   (-296.5776 | 296.7505)   \n",
            "Beta trends                              0.1341     6.6075     0.0203   0.9838   (-12.8166 | 13.0847)     \n",
            "Normal Scale                             3668.4759                                                        \n",
            "==========================================================================================================\n"
          ],
          "name": "stdout"
        }
      ]
    },
    {
      "cell_type": "markdown",
      "metadata": {
        "id": "Jf5m1PrGMl1Y"
      },
      "source": [
        "# Make Predictions on Test Data"
      ]
    },
    {
      "cell_type": "code",
      "metadata": {
        "id": "3Er5THEBMssX",
        "colab": {
          "base_uri": "https://localhost:8080/",
          "height": 1000
        },
        "outputId": "6d4d0fa0-45a1-45cd-b95a-cc834051f24b"
      },
      "source": [
        "pred_diff_data = arimax.predict(h=len(test_data), oos_data=test_data, intervals=False)\r\n",
        "\r\n",
        "show_data = pred_diff_data.copy()\r\n",
        "show_data['Predicted bps'] = test_data['bps'] + pred_diff_data['Differenced bps']\r\n",
        "\r\n",
        "pred_data = test_data.copy()\r\n",
        "pred_data['Predicted bps'] = show_data['Predicted bps']\r\n",
        "\r\n",
        "# result of prediction\r\n",
        "show_data['bps'] = test_data['bps']\r\n",
        "show_data"
      ],
      "execution_count": 41,
      "outputs": [
        {
          "output_type": "execute_result",
          "data": {
            "text/html": [
              "<div>\n",
              "<style scoped>\n",
              "    .dataframe tbody tr th:only-of-type {\n",
              "        vertical-align: middle;\n",
              "    }\n",
              "\n",
              "    .dataframe tbody tr th {\n",
              "        vertical-align: top;\n",
              "    }\n",
              "\n",
              "    .dataframe thead th {\n",
              "        text-align: right;\n",
              "    }\n",
              "</style>\n",
              "<table border=\"1\" class=\"dataframe\">\n",
              "  <thead>\n",
              "    <tr style=\"text-align: right;\">\n",
              "      <th></th>\n",
              "      <th>Differenced bps</th>\n",
              "      <th>Predicted bps</th>\n",
              "      <th>bps</th>\n",
              "    </tr>\n",
              "    <tr>\n",
              "      <th>time</th>\n",
              "      <th></th>\n",
              "      <th></th>\n",
              "      <th></th>\n",
              "    </tr>\n",
              "  </thead>\n",
              "  <tbody>\n",
              "    <tr>\n",
              "      <th>2017-12</th>\n",
              "      <td>5540.560988</td>\n",
              "      <td>23571.560988</td>\n",
              "      <td>18031</td>\n",
              "    </tr>\n",
              "    <tr>\n",
              "      <th>2018-01</th>\n",
              "      <td>1823.437914</td>\n",
              "      <td>13423.437914</td>\n",
              "      <td>11600</td>\n",
              "    </tr>\n",
              "    <tr>\n",
              "      <th>2018-02</th>\n",
              "      <td>-255.063923</td>\n",
              "      <td>12046.936077</td>\n",
              "      <td>12302</td>\n",
              "    </tr>\n",
              "    <tr>\n",
              "      <th>2018-03</th>\n",
              "      <td>-981.385049</td>\n",
              "      <td>14811.614951</td>\n",
              "      <td>15793</td>\n",
              "    </tr>\n",
              "    <tr>\n",
              "      <th>2018-04</th>\n",
              "      <td>-928.989831</td>\n",
              "      <td>13319.010169</td>\n",
              "      <td>14248</td>\n",
              "    </tr>\n",
              "    <tr>\n",
              "      <th>2018-05</th>\n",
              "      <td>-589.153469</td>\n",
              "      <td>9981.846531</td>\n",
              "      <td>10571</td>\n",
              "    </tr>\n",
              "    <tr>\n",
              "      <th>2018-06</th>\n",
              "      <td>-247.595661</td>\n",
              "      <td>6245.404339</td>\n",
              "      <td>6493</td>\n",
              "    </tr>\n",
              "    <tr>\n",
              "      <th>2018-07</th>\n",
              "      <td>-25.206717</td>\n",
              "      <td>12788.793283</td>\n",
              "      <td>12814</td>\n",
              "    </tr>\n",
              "    <tr>\n",
              "      <th>2018-08</th>\n",
              "      <td>73.793838</td>\n",
              "      <td>13839.793838</td>\n",
              "      <td>13766</td>\n",
              "    </tr>\n",
              "    <tr>\n",
              "      <th>2018-09</th>\n",
              "      <td>91.123879</td>\n",
              "      <td>13490.123879</td>\n",
              "      <td>13399</td>\n",
              "    </tr>\n",
              "    <tr>\n",
              "      <th>2018-10</th>\n",
              "      <td>69.791046</td>\n",
              "      <td>13987.791046</td>\n",
              "      <td>13918</td>\n",
              "    </tr>\n",
              "    <tr>\n",
              "      <th>2018-11</th>\n",
              "      <td>41.339268</td>\n",
              "      <td>14405.339268</td>\n",
              "      <td>14364</td>\n",
              "    </tr>\n",
              "    <tr>\n",
              "      <th>2018-12</th>\n",
              "      <td>23.402696</td>\n",
              "      <td>17398.402696</td>\n",
              "      <td>17375</td>\n",
              "    </tr>\n",
              "    <tr>\n",
              "      <th>2019-01</th>\n",
              "      <td>12.490785</td>\n",
              "      <td>12541.490785</td>\n",
              "      <td>12529</td>\n",
              "    </tr>\n",
              "    <tr>\n",
              "      <th>2019-02</th>\n",
              "      <td>7.117907</td>\n",
              "      <td>15179.117907</td>\n",
              "      <td>15172</td>\n",
              "    </tr>\n",
              "    <tr>\n",
              "      <th>2019-03</th>\n",
              "      <td>5.617684</td>\n",
              "      <td>16445.617684</td>\n",
              "      <td>16440</td>\n",
              "    </tr>\n",
              "    <tr>\n",
              "      <th>2019-04</th>\n",
              "      <td>6.552296</td>\n",
              "      <td>14836.552296</td>\n",
              "      <td>14830</td>\n",
              "    </tr>\n",
              "    <tr>\n",
              "      <th>2019-05</th>\n",
              "      <td>6.918669</td>\n",
              "      <td>8174.918669</td>\n",
              "      <td>8168</td>\n",
              "    </tr>\n",
              "    <tr>\n",
              "      <th>2019-06</th>\n",
              "      <td>12.835405</td>\n",
              "      <td>8893.835405</td>\n",
              "      <td>8881</td>\n",
              "    </tr>\n",
              "    <tr>\n",
              "      <th>2019-07</th>\n",
              "      <td>14.627452</td>\n",
              "      <td>12659.627452</td>\n",
              "      <td>12645</td>\n",
              "    </tr>\n",
              "    <tr>\n",
              "      <th>2019-08</th>\n",
              "      <td>13.115943</td>\n",
              "      <td>14142.115943</td>\n",
              "      <td>14129</td>\n",
              "    </tr>\n",
              "    <tr>\n",
              "      <th>2019-09</th>\n",
              "      <td>11.089495</td>\n",
              "      <td>13039.089495</td>\n",
              "      <td>13028</td>\n",
              "    </tr>\n",
              "    <tr>\n",
              "      <th>2019-10</th>\n",
              "      <td>9.551082</td>\n",
              "      <td>13578.551082</td>\n",
              "      <td>13569</td>\n",
              "    </tr>\n",
              "    <tr>\n",
              "      <th>2019-11</th>\n",
              "      <td>9.532851</td>\n",
              "      <td>14724.532851</td>\n",
              "      <td>14715</td>\n",
              "    </tr>\n",
              "    <tr>\n",
              "      <th>2019-12</th>\n",
              "      <td>12.933281</td>\n",
              "      <td>15171.933281</td>\n",
              "      <td>15159</td>\n",
              "    </tr>\n",
              "    <tr>\n",
              "      <th>2020-01</th>\n",
              "      <td>13.971427</td>\n",
              "      <td>12113.971427</td>\n",
              "      <td>12100</td>\n",
              "    </tr>\n",
              "    <tr>\n",
              "      <th>2020-02</th>\n",
              "      <td>12.387197</td>\n",
              "      <td>12698.387197</td>\n",
              "      <td>12686</td>\n",
              "    </tr>\n",
              "    <tr>\n",
              "      <th>2020-03</th>\n",
              "      <td>9.105832</td>\n",
              "      <td>5889.105832</td>\n",
              "      <td>5880</td>\n",
              "    </tr>\n",
              "    <tr>\n",
              "      <th>2020-04</th>\n",
              "      <td>5.337140</td>\n",
              "      <td>12691.337140</td>\n",
              "      <td>12686</td>\n",
              "    </tr>\n",
              "    <tr>\n",
              "      <th>2020-05</th>\n",
              "      <td>3.197093</td>\n",
              "      <td>5883.197093</td>\n",
              "      <td>5880</td>\n",
              "    </tr>\n",
              "  </tbody>\n",
              "</table>\n",
              "</div>"
            ],
            "text/plain": [
              "         Differenced bps  Predicted bps    bps\n",
              "time                                          \n",
              "2017-12      5540.560988   23571.560988  18031\n",
              "2018-01      1823.437914   13423.437914  11600\n",
              "2018-02      -255.063923   12046.936077  12302\n",
              "2018-03      -981.385049   14811.614951  15793\n",
              "2018-04      -928.989831   13319.010169  14248\n",
              "2018-05      -589.153469    9981.846531  10571\n",
              "2018-06      -247.595661    6245.404339   6493\n",
              "2018-07       -25.206717   12788.793283  12814\n",
              "2018-08        73.793838   13839.793838  13766\n",
              "2018-09        91.123879   13490.123879  13399\n",
              "2018-10        69.791046   13987.791046  13918\n",
              "2018-11        41.339268   14405.339268  14364\n",
              "2018-12        23.402696   17398.402696  17375\n",
              "2019-01        12.490785   12541.490785  12529\n",
              "2019-02         7.117907   15179.117907  15172\n",
              "2019-03         5.617684   16445.617684  16440\n",
              "2019-04         6.552296   14836.552296  14830\n",
              "2019-05         6.918669    8174.918669   8168\n",
              "2019-06        12.835405    8893.835405   8881\n",
              "2019-07        14.627452   12659.627452  12645\n",
              "2019-08        13.115943   14142.115943  14129\n",
              "2019-09        11.089495   13039.089495  13028\n",
              "2019-10         9.551082   13578.551082  13569\n",
              "2019-11         9.532851   14724.532851  14715\n",
              "2019-12        12.933281   15171.933281  15159\n",
              "2020-01        13.971427   12113.971427  12100\n",
              "2020-02        12.387197   12698.387197  12686\n",
              "2020-03         9.105832    5889.105832   5880\n",
              "2020-04         5.337140   12691.337140  12686\n",
              "2020-05         3.197093    5883.197093   5880"
            ]
          },
          "metadata": {
            "tags": []
          },
          "execution_count": 41
        }
      ]
    },
    {
      "cell_type": "code",
      "metadata": {
        "id": "0nWA8O3NcOaw",
        "colab": {
          "base_uri": "https://localhost:8080/",
          "height": 296
        },
        "outputId": "20693537-c88d-485d-ba4e-5b3dca5bda1e"
      },
      "source": [
        "# plotting result of prediction\r\n",
        "pred_data['Predicted bps'].plot(legend=True)\r\n",
        "test_data['bps'].plot(legend=True)"
      ],
      "execution_count": 42,
      "outputs": [
        {
          "output_type": "execute_result",
          "data": {
            "text/plain": [
              "<matplotlib.axes._subplots.AxesSubplot at 0x7f9965a7bb38>"
            ]
          },
          "metadata": {
            "tags": []
          },
          "execution_count": 42
        },
        {
          "output_type": "display_data",
          "data": {
            "image/png": "[encoded data removed]",
            "text/plain": [
              "<Figure size 432x288 with 1 Axes>"
            ]
          },
          "metadata": {
            "tags": [],
            "needs_background": "light"
          }
        }
      ]
    },
    {
      "cell_type": "markdown",
      "metadata": {
        "id": "O48VJYZ_jZv-"
      },
      "source": [
        "# Evaluating ARIMAX Model"
      ]
    },
    {
      "cell_type": "code",
      "metadata": {
        "id": "5qaveeFHjZJV",
        "colab": {
          "base_uri": "https://localhost:8080/"
        },
        "outputId": "757566d4-cf6a-40ed-ecc2-0ff4490826fa"
      },
      "source": [
        "#Check error from model\r\n",
        "MAPE = np.mean(np.abs((np.array(test_data['bps']) - pred_data['Predicted bps']) / np.array(test_data['bps']))) * 100\r\n",
        "MSE = mean_squared_error(test_data['bps'],pred_data['Predicted bps'])\r\n",
        "RMSE = np.sqrt(mean_squared_error(test_data['bps'],pred_data['Predicted bps']))\r\n",
        "\r\n",
        "print('MAPE = {0:.4f} '.format(MAPE))\r\n",
        "print('MSE = {0:.4f} '.format(MSE))\r\n",
        "print('RMSE = {0:.4f} '.format(RMSE))"
      ],
      "execution_count": 43,
      "outputs": [
        {
          "output_type": "stream",
          "text": [
            "MAPE = 2.4804 \n",
            "MSE = 1211522.5969 \n",
            "RMSE = 1100.6919 \n"
          ],
          "name": "stdout"
        }
      ]
    },
    {
      "cell_type": "markdown",
      "metadata": {
        "id": "J0H4lno5oZ96"
      },
      "source": [
        "# Future Prediction using the ARIMAX Model"
      ]
    },
    {
      "cell_type": "code",
      "metadata": {
        "id": "b2_1mNpzl1Ae",
        "colab": {
          "base_uri": "https://localhost:8080/",
          "height": 958
        },
        "outputId": "38ee340b-e2aa-4f8b-e878-c159e3108e3e"
      },
      "source": [
        "arimax_future = pf.ARIMAX(data=data_all, formula='bps~trends',ar=2, integ=1, ma=2, family=pf.Normal())\r\n",
        "model_future = arimax_future.fit(\"MLE\")\r\n",
        "model_future.summary()\r\n",
        "\r\n",
        "data_oos = pred_data[-19:]\r\n",
        "future_diff_data = arimax_future.predict(h=19, oos_data=data_oos, intervals=False)\r\n",
        "data_oos.index = future_diff_data.index \r\n",
        "\r\n",
        "# result of future prediction\r\n",
        "show_data = future_diff_data.copy()\r\n",
        "show_data['Future Predicted bps'] = data_oos['bps'] + future_diff_data['Differenced bps']\r\n",
        "show_data"
      ],
      "execution_count": 44,
      "outputs": [
        {
          "output_type": "stream",
          "text": [
            "Normal ARIMAX(2,1,2)                                                                                      \n",
            "======================================================= ==================================================\n",
            "Dependent Variable: Differenced bps                     Method: MLE                                       \n",
            "Start Date: 2010-03                                     Log Likelihood: -1358.6917                        \n",
            "End Date: 2021-12                                       AIC: 2731.3834                                    \n",
            "Number of observations: 141                             BIC: 2752.0247                                    \n",
            "==========================================================================================================\n",
            "Latent Variable                          Estimate   Std Error  z        P>|z|    95% C.I.                 \n",
            "======================================== ========== ========== ======== ======== =========================\n",
            "AR(1)                                    -0.1431    0.317      -0.4512  0.6518   (-0.7644 | 0.4783)       \n",
            "AR(2)                                    -0.0806    0.1542     -0.5223  0.6015   (-0.3828 | 0.2217)       \n",
            "MA(1)                                    -0.3529    0.3109     -1.135   0.2564   (-0.9623 | 0.2565)       \n",
            "MA(2)                                    -0.3103    0.2609     -1.1895  0.2343   (-0.8217 | 0.201)        \n",
            "Beta 1                                   -0.1466    399.4908   -0.0004  0.9997   (-783.1485 | 782.8553)   \n",
            "Beta trends                              -3.4176    18.4874    -0.1849  0.8533   (-39.6529 | 32.8177)     \n",
            "Normal Scale                             3704.0126                                                        \n",
            "==========================================================================================================\n"
          ],
          "name": "stdout"
        },
        {
          "output_type": "execute_result",
          "data": {
            "text/html": [
              "<div>\n",
              "<style scoped>\n",
              "    .dataframe tbody tr th:only-of-type {\n",
              "        vertical-align: middle;\n",
              "    }\n",
              "\n",
              "    .dataframe tbody tr th {\n",
              "        vertical-align: top;\n",
              "    }\n",
              "\n",
              "    .dataframe thead th {\n",
              "        text-align: right;\n",
              "    }\n",
              "</style>\n",
              "<table border=\"1\" class=\"dataframe\">\n",
              "  <thead>\n",
              "    <tr style=\"text-align: right;\">\n",
              "      <th></th>\n",
              "      <th>Differenced bps</th>\n",
              "      <th>Future Predicted bps</th>\n",
              "    </tr>\n",
              "    <tr>\n",
              "      <th>time</th>\n",
              "      <th></th>\n",
              "      <th></th>\n",
              "    </tr>\n",
              "  </thead>\n",
              "  <tbody>\n",
              "    <tr>\n",
              "      <th>2020-06</th>\n",
              "      <td>-193.633867</td>\n",
              "      <td>14170.366133</td>\n",
              "    </tr>\n",
              "    <tr>\n",
              "      <th>2020-07</th>\n",
              "      <td>-214.821929</td>\n",
              "      <td>17160.178071</td>\n",
              "    </tr>\n",
              "    <tr>\n",
              "      <th>2020-08</th>\n",
              "      <td>-56.346175</td>\n",
              "      <td>12472.653825</td>\n",
              "    </tr>\n",
              "    <tr>\n",
              "      <th>2020-09</th>\n",
              "      <td>-53.386604</td>\n",
              "      <td>15118.613396</td>\n",
              "    </tr>\n",
              "    <tr>\n",
              "      <th>2020-10</th>\n",
              "      <td>-63.157708</td>\n",
              "      <td>16376.842292</td>\n",
              "    </tr>\n",
              "    <tr>\n",
              "      <th>2020-11</th>\n",
              "      <td>-72.251086</td>\n",
              "      <td>14757.748914</td>\n",
              "    </tr>\n",
              "    <tr>\n",
              "      <th>2020-12</th>\n",
              "      <td>-39.404924</td>\n",
              "      <td>8128.595076</td>\n",
              "    </tr>\n",
              "    <tr>\n",
              "      <th>2021-01</th>\n",
              "      <td>-193.744908</td>\n",
              "      <td>8687.255092</td>\n",
              "    </tr>\n",
              "    <tr>\n",
              "      <th>2021-02</th>\n",
              "      <td>-64.949344</td>\n",
              "      <td>12580.050656</td>\n",
              "    </tr>\n",
              "    <tr>\n",
              "      <th>2021-03</th>\n",
              "      <td>-43.600916</td>\n",
              "      <td>14085.399084</td>\n",
              "    </tr>\n",
              "    <tr>\n",
              "      <th>2021-04</th>\n",
              "      <td>-63.864577</td>\n",
              "      <td>12964.135423</td>\n",
              "    </tr>\n",
              "    <tr>\n",
              "      <th>2021-05</th>\n",
              "      <td>-62.685453</td>\n",
              "      <td>13506.314547</td>\n",
              "    </tr>\n",
              "    <tr>\n",
              "      <th>2021-06</th>\n",
              "      <td>-81.727392</td>\n",
              "      <td>14633.272608</td>\n",
              "    </tr>\n",
              "    <tr>\n",
              "      <th>2021-07</th>\n",
              "      <td>-150.867682</td>\n",
              "      <td>15008.132318</td>\n",
              "    </tr>\n",
              "    <tr>\n",
              "      <th>2021-08</th>\n",
              "      <td>-74.509078</td>\n",
              "      <td>12025.490922</td>\n",
              "    </tr>\n",
              "    <tr>\n",
              "      <th>2021-09</th>\n",
              "      <td>-45.687165</td>\n",
              "      <td>12640.312835</td>\n",
              "    </tr>\n",
              "    <tr>\n",
              "      <th>2021-10</th>\n",
              "      <td>-25.202653</td>\n",
              "      <td>5854.797347</td>\n",
              "    </tr>\n",
              "    <tr>\n",
              "      <th>2021-11</th>\n",
              "      <td>-6.531523</td>\n",
              "      <td>12679.468477</td>\n",
              "    </tr>\n",
              "    <tr>\n",
              "      <th>2021-12</th>\n",
              "      <td>-24.522843</td>\n",
              "      <td>5855.477157</td>\n",
              "    </tr>\n",
              "  </tbody>\n",
              "</table>\n",
              "</div>"
            ],
            "text/plain": [
              "         Differenced bps  Future Predicted bps\n",
              "time                                          \n",
              "2020-06      -193.633867          14170.366133\n",
              "2020-07      -214.821929          17160.178071\n",
              "2020-08       -56.346175          12472.653825\n",
              "2020-09       -53.386604          15118.613396\n",
              "2020-10       -63.157708          16376.842292\n",
              "2020-11       -72.251086          14757.748914\n",
              "2020-12       -39.404924           8128.595076\n",
              "2021-01      -193.744908           8687.255092\n",
              "2021-02       -64.949344          12580.050656\n",
              "2021-03       -43.600916          14085.399084\n",
              "2021-04       -63.864577          12964.135423\n",
              "2021-05       -62.685453          13506.314547\n",
              "2021-06       -81.727392          14633.272608\n",
              "2021-07      -150.867682          15008.132318\n",
              "2021-08       -74.509078          12025.490922\n",
              "2021-09       -45.687165          12640.312835\n",
              "2021-10       -25.202653           5854.797347\n",
              "2021-11        -6.531523          12679.468477\n",
              "2021-12       -24.522843           5855.477157"
            ]
          },
          "metadata": {
            "tags": []
          },
          "execution_count": 44
        }
      ]
    }
  ]
}